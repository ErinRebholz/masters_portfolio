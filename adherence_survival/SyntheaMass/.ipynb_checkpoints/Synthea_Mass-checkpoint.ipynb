{
 "cells": [
  {
   "cell_type": "markdown",
   "id": "f605cd77",
   "metadata": {},
   "source": [
    "# CSCI82 - Adherence Project"
   ]
  },
  {
   "cell_type": "code",
   "execution_count": 209,
   "id": "7fabd556",
   "metadata": {},
   "outputs": [],
   "source": [
    "import pandas as pd\n",
    "import matplotlib.pyplot as plt\n"
   ]
  },
  {
   "cell_type": "markdown",
   "id": "d55a45c6",
   "metadata": {},
   "source": [
    "## 1. Import Data"
   ]
  },
  {
   "cell_type": "code",
   "execution_count": 65,
   "id": "ebbde697",
   "metadata": {},
   "outputs": [],
   "source": [
    "out_1 = pd.read_csv('coherent-11_07-22/output 1/medications.csv')\n",
    "out_1 = out_1[out_1.DESCRIPTION.str.contains('statin')]\n",
    "pat_1 = pd.read_csv('coherent-11_07-22/output 1/patients.csv')\n",
    "df_1 = pd.merge(out_1,pat_1,how='left',right_on='ID', left_on='PATIENT')\n",
    "\n",
    "out_2 = pd.read_csv('coherent-11_07-22/output 2/medications.csv')\n",
    "out_2 = out_2[out_2.DESCRIPTION.str.contains('statin')]\n",
    "pat_2 = pd.read_csv('coherent-11_07-22/output 2/patients.csv')\n",
    "df_2 = pd.merge(out_2,pat_2,how='left',right_on='ID', left_on='PATIENT')\n",
    "\n",
    "out_3 = pd.read_csv('coherent-11_07-22/output 3/medications.csv')\n",
    "out_3 = out_3[out_3.DESCRIPTION.str.contains('statin')]\n",
    "pat_3 = pd.read_csv('coherent-11_07-22/output 3/patients.csv')\n",
    "df_3 = pd.merge(out_3,pat_3,how='left',right_on='ID', left_on='PATIENT')\n",
    "\n",
    "out_4 = pd.read_csv('coherent-11_07-22/output 4/medications.csv')\n",
    "out_4 = out_4[out_4.DESCRIPTION.str.contains('statin')]\n",
    "pat_4 = pd.read_csv('coherent-11_07-22/output 4/patients.csv')\n",
    "df_4 = pd.merge(out_4,pat_4,how='left',right_on='ID', left_on='PATIENT')\n",
    "\n",
    "out_5 = pd.read_csv('coherent-11_07-22/output 5/medications.csv')\n",
    "out_5 = out_5[out_5.DESCRIPTION.str.contains('statin')]\n",
    "pat_5 = pd.read_csv('coherent-11_07-22/output 5/patients.csv')\n",
    "df_5 = pd.merge(out_5,pat_5,how='left',right_on='ID', left_on='PATIENT')"
   ]
  },
  {
   "cell_type": "code",
   "execution_count": 121,
   "id": "7210888a",
   "metadata": {},
   "outputs": [],
   "source": [
    "statin_df = pd.concat([df_1,df_2,df_3,df_4,df_5], axis = 0).reset_index(drop=True)"
   ]
  },
  {
   "cell_type": "code",
   "execution_count": 71,
   "id": "86768579",
   "metadata": {},
   "outputs": [
    {
     "data": {
      "text/plain": [
       "(30669, 7780, 7792, 7762, 7601)"
      ]
     },
     "execution_count": 71,
     "metadata": {},
     "output_type": "execute_result"
    }
   ],
   "source": [
    "len(out_1),len(out_2),len(out_3),len(out_4),len(out_5)"
   ]
  },
  {
   "cell_type": "code",
   "execution_count": 207,
   "id": "51a03e83",
   "metadata": {},
   "outputs": [
    {
     "data": {
      "text/plain": [
       "(29365, 61604)"
      ]
     },
     "execution_count": 207,
     "metadata": {},
     "output_type": "execute_result"
    }
   ],
   "source": [
    "#run counts of Patients and entries\n",
    "uni_pat = statin_df.PATIENT.unique() #unique patient variable\n",
    "\n",
    "len(statin_df.PATIENT.unique()),len(statin_df)"
   ]
  },
  {
   "cell_type": "code",
   "execution_count": 184,
   "id": "a9449813",
   "metadata": {},
   "outputs": [],
   "source": [
    "#Parse out dates from Start and Stop fields\n",
    "statin_df['START_DAY'] = statin_df.START.str.split('T')\n",
    "statin_df['START_DAY'] = [i[0] for i in statin_df['START_DAY']]\n",
    "\n",
    "statin_df['STOP_DAY'] = statin_df.STOP.str.split('T')\n",
    "statin_df['STOP_DAY'] = [b if a == True else b[0] for a,b in zip(pd.isnull(statin_df.STOP_DAY),statin_df.STOP_DAY)]"
   ]
  },
  {
   "cell_type": "code",
   "execution_count": 200,
   "id": "b7440463",
   "metadata": {},
   "outputs": [
    {
     "data": {
      "text/html": [
       "<div>\n",
       "<style scoped>\n",
       "    .dataframe tbody tr th:only-of-type {\n",
       "        vertical-align: middle;\n",
       "    }\n",
       "\n",
       "    .dataframe tbody tr th {\n",
       "        vertical-align: top;\n",
       "    }\n",
       "\n",
       "    .dataframe thead th {\n",
       "        text-align: right;\n",
       "    }\n",
       "</style>\n",
       "<table border=\"1\" class=\"dataframe\">\n",
       "  <thead>\n",
       "    <tr style=\"text-align: right;\">\n",
       "      <th></th>\n",
       "      <th>PATIENT</th>\n",
       "      <th>CODE</th>\n",
       "      <th>DESCRIPTION</th>\n",
       "      <th>DISPENSES</th>\n",
       "      <th>TOTALCOST</th>\n",
       "      <th>REASONCODE</th>\n",
       "      <th>REASONDESCRIPTION</th>\n",
       "      <th>BIRTHDATE</th>\n",
       "      <th>DEATHDATE</th>\n",
       "      <th>RACE</th>\n",
       "      <th>ETHNICITY</th>\n",
       "      <th>GENDER</th>\n",
       "      <th>HEALTHCARE_EXPENSES</th>\n",
       "      <th>HEALTHCARE_COVERAGE</th>\n",
       "      <th>START_DAY</th>\n",
       "      <th>STOP_DAY</th>\n",
       "    </tr>\n",
       "  </thead>\n",
       "  <tbody>\n",
       "    <tr>\n",
       "      <th>0</th>\n",
       "      <td>b24e154c-14c4-8372-2b52-a466bc9b44fe</td>\n",
       "      <td>314231</td>\n",
       "      <td>Simvastatin 10 MG Oral Tablet</td>\n",
       "      <td>10.0</td>\n",
       "      <td>0.20</td>\n",
       "      <td>55822004.0</td>\n",
       "      <td>Hyperlipidemia</td>\n",
       "      <td>5/30/1959</td>\n",
       "      <td>NaN</td>\n",
       "      <td>white</td>\n",
       "      <td>nonhispanic</td>\n",
       "      <td>M</td>\n",
       "      <td>28809.79</td>\n",
       "      <td>0.0</td>\n",
       "      <td>2015-02-01</td>\n",
       "      <td>2021-01-30</td>\n",
       "    </tr>\n",
       "    <tr>\n",
       "      <th>1</th>\n",
       "      <td>b24e154c-14c4-8372-2b52-a466bc9b44fe</td>\n",
       "      <td>314231</td>\n",
       "      <td>Simvastatin 10 MG Oral Tablet</td>\n",
       "      <td>12.0</td>\n",
       "      <td>0.24</td>\n",
       "      <td>55822004.0</td>\n",
       "      <td>Hyperlipidemia</td>\n",
       "      <td>5/30/1959</td>\n",
       "      <td>NaN</td>\n",
       "      <td>white</td>\n",
       "      <td>nonhispanic</td>\n",
       "      <td>M</td>\n",
       "      <td>28809.79</td>\n",
       "      <td>0.0</td>\n",
       "      <td>2016-02-01</td>\n",
       "      <td>2017-01-31</td>\n",
       "    </tr>\n",
       "    <tr>\n",
       "      <th>2</th>\n",
       "      <td>b24e154c-14c4-8372-2b52-a466bc9b44fe</td>\n",
       "      <td>314231</td>\n",
       "      <td>Simvastatin 10 MG Oral Tablet</td>\n",
       "      <td>12.0</td>\n",
       "      <td>0.24</td>\n",
       "      <td>55822004.0</td>\n",
       "      <td>Hyperlipidemia</td>\n",
       "      <td>5/30/1959</td>\n",
       "      <td>NaN</td>\n",
       "      <td>white</td>\n",
       "      <td>nonhispanic</td>\n",
       "      <td>M</td>\n",
       "      <td>28809.79</td>\n",
       "      <td>0.0</td>\n",
       "      <td>2017-01-31</td>\n",
       "      <td>2018-01-31</td>\n",
       "    </tr>\n",
       "    <tr>\n",
       "      <th>3</th>\n",
       "      <td>b24e154c-14c4-8372-2b52-a466bc9b44fe</td>\n",
       "      <td>314231</td>\n",
       "      <td>Simvastatin 10 MG Oral Tablet</td>\n",
       "      <td>12.0</td>\n",
       "      <td>0.24</td>\n",
       "      <td>55822004.0</td>\n",
       "      <td>Hyperlipidemia</td>\n",
       "      <td>5/30/1959</td>\n",
       "      <td>NaN</td>\n",
       "      <td>white</td>\n",
       "      <td>nonhispanic</td>\n",
       "      <td>M</td>\n",
       "      <td>28809.79</td>\n",
       "      <td>0.0</td>\n",
       "      <td>2018-01-31</td>\n",
       "      <td>2019-01-31</td>\n",
       "    </tr>\n",
       "    <tr>\n",
       "      <th>4</th>\n",
       "      <td>b24e154c-14c4-8372-2b52-a466bc9b44fe</td>\n",
       "      <td>314231</td>\n",
       "      <td>Simvastatin 10 MG Oral Tablet</td>\n",
       "      <td>12.0</td>\n",
       "      <td>0.24</td>\n",
       "      <td>55822004.0</td>\n",
       "      <td>Hyperlipidemia</td>\n",
       "      <td>5/30/1959</td>\n",
       "      <td>NaN</td>\n",
       "      <td>white</td>\n",
       "      <td>nonhispanic</td>\n",
       "      <td>M</td>\n",
       "      <td>28809.79</td>\n",
       "      <td>0.0</td>\n",
       "      <td>2019-01-31</td>\n",
       "      <td>2020-01-31</td>\n",
       "    </tr>\n",
       "    <tr>\n",
       "      <th>...</th>\n",
       "      <td>...</td>\n",
       "      <td>...</td>\n",
       "      <td>...</td>\n",
       "      <td>...</td>\n",
       "      <td>...</td>\n",
       "      <td>...</td>\n",
       "      <td>...</td>\n",
       "      <td>...</td>\n",
       "      <td>...</td>\n",
       "      <td>...</td>\n",
       "      <td>...</td>\n",
       "      <td>...</td>\n",
       "      <td>...</td>\n",
       "      <td>...</td>\n",
       "      <td>...</td>\n",
       "      <td>...</td>\n",
       "    </tr>\n",
       "    <tr>\n",
       "      <th>61599</th>\n",
       "      <td>0a7e6a41-4af1-41af-8ceb-e5e39a1598ee</td>\n",
       "      <td>312961</td>\n",
       "      <td>Simvastatin 20 MG Oral Tablet</td>\n",
       "      <td>NaN</td>\n",
       "      <td>NaN</td>\n",
       "      <td>53741008.0</td>\n",
       "      <td>Coronary Heart Disease</td>\n",
       "      <td>8/24/1961</td>\n",
       "      <td>NaN</td>\n",
       "      <td>black</td>\n",
       "      <td>african</td>\n",
       "      <td>M</td>\n",
       "      <td>NaN</td>\n",
       "      <td>NaN</td>\n",
       "      <td>2015-08-08</td>\n",
       "      <td>NaN</td>\n",
       "    </tr>\n",
       "    <tr>\n",
       "      <th>61600</th>\n",
       "      <td>f5bb30f2-9b2d-40ca-a7d8-f9ed9f1e0feb</td>\n",
       "      <td>312961</td>\n",
       "      <td>Simvastatin 20 MG Oral Tablet</td>\n",
       "      <td>NaN</td>\n",
       "      <td>NaN</td>\n",
       "      <td>53741008.0</td>\n",
       "      <td>Coronary Heart Disease</td>\n",
       "      <td>6/20/1965</td>\n",
       "      <td>NaN</td>\n",
       "      <td>white</td>\n",
       "      <td>portuguese</td>\n",
       "      <td>F</td>\n",
       "      <td>NaN</td>\n",
       "      <td>NaN</td>\n",
       "      <td>1999-08-11</td>\n",
       "      <td>NaN</td>\n",
       "    </tr>\n",
       "    <tr>\n",
       "      <th>61601</th>\n",
       "      <td>e29b2ab1-44d4-49f8-ad27-b87c2acf5aa1</td>\n",
       "      <td>312961</td>\n",
       "      <td>Simvastatin 20 MG Oral Tablet</td>\n",
       "      <td>NaN</td>\n",
       "      <td>NaN</td>\n",
       "      <td>53741008.0</td>\n",
       "      <td>Coronary Heart Disease</td>\n",
       "      <td>4/2/1945</td>\n",
       "      <td>4/8/2002</td>\n",
       "      <td>asian</td>\n",
       "      <td>chinese</td>\n",
       "      <td>M</td>\n",
       "      <td>NaN</td>\n",
       "      <td>NaN</td>\n",
       "      <td>1991-06-07</td>\n",
       "      <td>NaN</td>\n",
       "    </tr>\n",
       "    <tr>\n",
       "      <th>61602</th>\n",
       "      <td>9786e67d-bf7d-49af-a7d3-a36e7727f35a</td>\n",
       "      <td>312961</td>\n",
       "      <td>Simvastatin 20 MG Oral Tablet</td>\n",
       "      <td>NaN</td>\n",
       "      <td>NaN</td>\n",
       "      <td>53741008.0</td>\n",
       "      <td>Coronary Heart Disease</td>\n",
       "      <td>1/23/1954</td>\n",
       "      <td>NaN</td>\n",
       "      <td>black</td>\n",
       "      <td>dominican</td>\n",
       "      <td>F</td>\n",
       "      <td>NaN</td>\n",
       "      <td>NaN</td>\n",
       "      <td>1993-12-12</td>\n",
       "      <td>NaN</td>\n",
       "    </tr>\n",
       "    <tr>\n",
       "      <th>61603</th>\n",
       "      <td>cf150bcd-c8e6-4b7c-8a29-eaf596d78586</td>\n",
       "      <td>312961</td>\n",
       "      <td>Simvastatin 20 MG Oral Tablet</td>\n",
       "      <td>NaN</td>\n",
       "      <td>NaN</td>\n",
       "      <td>53741008.0</td>\n",
       "      <td>Coronary Heart Disease</td>\n",
       "      <td>6/22/1950</td>\n",
       "      <td>NaN</td>\n",
       "      <td>black</td>\n",
       "      <td>west_indian</td>\n",
       "      <td>M</td>\n",
       "      <td>NaN</td>\n",
       "      <td>NaN</td>\n",
       "      <td>2016-12-18</td>\n",
       "      <td>NaN</td>\n",
       "    </tr>\n",
       "  </tbody>\n",
       "</table>\n",
       "<p>61604 rows × 16 columns</p>\n",
       "</div>"
      ],
      "text/plain": [
       "                                    PATIENT    CODE  \\\n",
       "0      b24e154c-14c4-8372-2b52-a466bc9b44fe  314231   \n",
       "1      b24e154c-14c4-8372-2b52-a466bc9b44fe  314231   \n",
       "2      b24e154c-14c4-8372-2b52-a466bc9b44fe  314231   \n",
       "3      b24e154c-14c4-8372-2b52-a466bc9b44fe  314231   \n",
       "4      b24e154c-14c4-8372-2b52-a466bc9b44fe  314231   \n",
       "...                                     ...     ...   \n",
       "61599  0a7e6a41-4af1-41af-8ceb-e5e39a1598ee  312961   \n",
       "61600  f5bb30f2-9b2d-40ca-a7d8-f9ed9f1e0feb  312961   \n",
       "61601  e29b2ab1-44d4-49f8-ad27-b87c2acf5aa1  312961   \n",
       "61602  9786e67d-bf7d-49af-a7d3-a36e7727f35a  312961   \n",
       "61603  cf150bcd-c8e6-4b7c-8a29-eaf596d78586  312961   \n",
       "\n",
       "                         DESCRIPTION  DISPENSES  TOTALCOST  REASONCODE  \\\n",
       "0      Simvastatin 10 MG Oral Tablet       10.0       0.20  55822004.0   \n",
       "1      Simvastatin 10 MG Oral Tablet       12.0       0.24  55822004.0   \n",
       "2      Simvastatin 10 MG Oral Tablet       12.0       0.24  55822004.0   \n",
       "3      Simvastatin 10 MG Oral Tablet       12.0       0.24  55822004.0   \n",
       "4      Simvastatin 10 MG Oral Tablet       12.0       0.24  55822004.0   \n",
       "...                              ...        ...        ...         ...   \n",
       "61599  Simvastatin 20 MG Oral Tablet        NaN        NaN  53741008.0   \n",
       "61600  Simvastatin 20 MG Oral Tablet        NaN        NaN  53741008.0   \n",
       "61601  Simvastatin 20 MG Oral Tablet        NaN        NaN  53741008.0   \n",
       "61602  Simvastatin 20 MG Oral Tablet        NaN        NaN  53741008.0   \n",
       "61603  Simvastatin 20 MG Oral Tablet        NaN        NaN  53741008.0   \n",
       "\n",
       "            REASONDESCRIPTION  BIRTHDATE DEATHDATE   RACE    ETHNICITY GENDER  \\\n",
       "0              Hyperlipidemia  5/30/1959       NaN  white  nonhispanic      M   \n",
       "1              Hyperlipidemia  5/30/1959       NaN  white  nonhispanic      M   \n",
       "2              Hyperlipidemia  5/30/1959       NaN  white  nonhispanic      M   \n",
       "3              Hyperlipidemia  5/30/1959       NaN  white  nonhispanic      M   \n",
       "4              Hyperlipidemia  5/30/1959       NaN  white  nonhispanic      M   \n",
       "...                       ...        ...       ...    ...          ...    ...   \n",
       "61599  Coronary Heart Disease  8/24/1961       NaN  black      african      M   \n",
       "61600  Coronary Heart Disease  6/20/1965       NaN  white   portuguese      F   \n",
       "61601  Coronary Heart Disease   4/2/1945  4/8/2002  asian      chinese      M   \n",
       "61602  Coronary Heart Disease  1/23/1954       NaN  black    dominican      F   \n",
       "61603  Coronary Heart Disease  6/22/1950       NaN  black  west_indian      M   \n",
       "\n",
       "       HEALTHCARE_EXPENSES  HEALTHCARE_COVERAGE   START_DAY    STOP_DAY  \n",
       "0                 28809.79                  0.0  2015-02-01  2021-01-30  \n",
       "1                 28809.79                  0.0  2016-02-01  2017-01-31  \n",
       "2                 28809.79                  0.0  2017-01-31  2018-01-31  \n",
       "3                 28809.79                  0.0  2018-01-31  2019-01-31  \n",
       "4                 28809.79                  0.0  2019-01-31  2020-01-31  \n",
       "...                    ...                  ...         ...         ...  \n",
       "61599                  NaN                  NaN  2015-08-08         NaN  \n",
       "61600                  NaN                  NaN  1999-08-11         NaN  \n",
       "61601                  NaN                  NaN  1991-06-07         NaN  \n",
       "61602                  NaN                  NaN  1993-12-12         NaN  \n",
       "61603                  NaN                  NaN  2016-12-18         NaN  \n",
       "\n",
       "[61604 rows x 16 columns]"
      ]
     },
     "execution_count": 200,
     "metadata": {},
     "output_type": "execute_result"
    }
   ],
   "source": [
    "#Retain only fields of interest\n",
    "retain=['PATIENT', 'CODE', 'DESCRIPTION',\n",
    "        'DISPENSES', 'TOTALCOST', 'REASONCODE',\n",
    "       'REASONDESCRIPTION','BIRTHDATE', 'DEATHDATE', \n",
    "        'RACE', 'GENDER','HEALTHCARE_EXPENSES',\n",
    "       'HEALTHCARE_COVERAGE', 'START_DAY', 'STOP_DAY']\n",
    "\n",
    "statin_df = statin_df.loc[:,retain]\n",
    "\n",
    "statin_df"
   ]
  },
  {
   "cell_type": "markdown",
   "id": "bb9abfd3",
   "metadata": {},
   "source": [
    "**QA of Key Data Fields**"
   ]
  },
  {
   "cell_type": "code",
   "execution_count": 203,
   "id": "dc90968c",
   "metadata": {},
   "outputs": [
    {
     "data": {
      "text/plain": [
       "array(['white', 'black', 'asian', 'native', 'hispanic', nan, 'X57684301X',\n",
       "       'FALSE', 'Amanda814', 'M', 'X99318897X', 'X88633483XTheodora845',\n",
       "       'X77234270X', 'Mr.', 'Marjorie206'], dtype=object)"
      ]
     },
     "execution_count": 203,
     "metadata": {},
     "output_type": "execute_result"
    }
   ],
   "source": [
    "statin_df.RACE.unique()"
   ]
  },
  {
   "cell_type": "code",
   "execution_count": 227,
   "id": "97a77b30",
   "metadata": {},
   "outputs": [
    {
     "data": {
      "text/plain": [
       "['c81fdb3b-ac7a-4b48-8e63-101f8c704a41',\n",
       " 'c81fdb3b-ac7a-4b48-8e63-101f8c704a41',\n",
       " '8caae794-36a1-4fff-9ded-91e688852e73',\n",
       " '4f8f0b90-ddf5-4432-80a9-5b02526de801',\n",
       " '8f940e01-e0f8-47c6-b462-926523cc1a9c',\n",
       " '2ddecc37-93d3-4394-8e76-c947fadeaeaa',\n",
       " '00adc3ab-1553-4cd7-bd24-aba4b71b6e10',\n",
       " '1cf3f901-66b2-451d-bdab-d1dcfc2ba7bf',\n",
       " '96d5230c-ada7-4f89-bd1d-cdca6478f7ed',\n",
       " '40176315-c56d-4c59-9505-de9e4c23ec40',\n",
       " 'b1635ee0-0a65-4d28-b382-87aff3d010ea',\n",
       " 'cdf01922-8dcd-4a76-b9ad-3aa4d51b605c']"
      ]
     },
     "execution_count": 227,
     "metadata": {},
     "output_type": "execute_result"
    }
   ],
   "source": [
    "#Remove patients with RACES not in the correct form\n",
    "exclude = ['X57684301X',\n",
    "       'FALSE', 'Amanda814', 'M', 'X99318897X', 'X88633483XTheodora845',\n",
    "       'X77234270X', 'Mr.', 'Marjorie206']\n",
    "\n",
    "patient_list = [j if i in exclude else 0 for i,j in zip(statin_df.RACE,statin_df.PATIENT)] \n",
    "\n",
    "patient_list = list(filter(None, patient_list))\n",
    "\n",
    "patient_list"
   ]
  },
  {
   "cell_type": "code",
   "execution_count": null,
   "id": "beadbb78",
   "metadata": {},
   "outputs": [],
   "source": []
  },
  {
   "cell_type": "code",
   "execution_count": 205,
   "id": "212221e2",
   "metadata": {},
   "outputs": [
    {
     "data": {
      "text/plain": [
       "array([ 10.,  12.,   1.,   7.,   3.,   9.,   5.,  11.,   4.,   2.,   6.,\n",
       "         8.,  52.,  16., 195., 271.,  28.,  23.,  15.,  nan])"
      ]
     },
     "execution_count": 205,
     "metadata": {},
     "output_type": "execute_result"
    }
   ],
   "source": [
    "statin_df.DISPENSES.unique()"
   ]
  },
  {
   "cell_type": "code",
   "execution_count": 206,
   "id": "a265d926",
   "metadata": {},
   "outputs": [
    {
     "data": {
      "text/plain": [
       "array(['Hyperlipidemia', nan, 'Coronary Heart Disease',\n",
       "       'Myocardial Infarction'], dtype=object)"
      ]
     },
     "execution_count": 206,
     "metadata": {},
     "output_type": "execute_result"
    }
   ],
   "source": [
    "statin_df.REASONDESCRIPTION.unique()"
   ]
  },
  {
   "cell_type": "code",
   "execution_count": 213,
   "id": "800fe836",
   "metadata": {},
   "outputs": [
    {
     "data": {
      "image/png": "[encoded data removed]",
      "text/plain": [
       "<Figure size 640x480 with 1 Axes>"
      ]
     },
     "metadata": {},
     "output_type": "display_data"
    }
   ],
   "source": [
    "plt.hist(statin_df.CODE);"
   ]
  },
  {
   "cell_type": "code",
   "execution_count": 218,
   "id": "bb6bc1db",
   "metadata": {},
   "outputs": [
    {
     "data": {
      "image/png": "[encoded data removed]",
      "text/plain": [
       "<Figure size 640x480 with 1 Axes>"
      ]
     },
     "metadata": {},
     "output_type": "display_data"
    }
   ],
   "source": [
    "plt.hist(statin_df.REASONCODE);"
   ]
  },
  {
   "cell_type": "code",
   "execution_count": null,
   "id": "0a67bbb4",
   "metadata": {},
   "outputs": [],
   "source": []
  }
 ],
 "metadata": {
  "kernelspec": {
   "display_name": "Python 3 (ipykernel)",
   "language": "python",
   "name": "python3"
  },
  "language_info": {
   "codemirror_mode": {
    "name": "ipython",
    "version": 3
   },
   "file_extension": ".py",
   "mimetype": "text/x-python",
   "name": "python",
   "nbconvert_exporter": "python",
   "pygments_lexer": "ipython3",
   "version": "3.11.4"
  }
 },
 "nbformat": 4,
 "nbformat_minor": 5
}
